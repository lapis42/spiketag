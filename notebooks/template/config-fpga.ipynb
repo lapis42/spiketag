{
 "cells": [
  {
   "cell_type": "markdown",
   "metadata": {},
   "source": [
    "### 1. Reset the reference channel / threshold\n",
    "1. Run the codes below to reset reference and threshold\n",
    "2. Proceed to the next section\n",
    "\n",
    "* **Restart the kernel when you move on to the next section**"
   ]
  },
  {
   "cell_type": "code",
   "execution_count": null,
   "metadata": {},
   "outputs": [],
   "source": [
    "%matplotlib inline\n",
    "%gui qt\n",
    "\n",
    "import numpy as np\n",
    "import matplotlib.pyplot as plt\n",
    "from spiketag.base import probe\n",
    "from spiketag.fpga import FPGA\n",
    "\n",
    "# load probe\n",
    "prb_filename = './prb_a2x32x2.prb'\n",
    "prb = probe()\n",
    "prb.load(prb_filename)\n",
    "\n",
    "fpga = FPGA(probe=prb)\n",
    "\n",
    "# check the current channel reference\n",
    "ch_ref_fpga = fpga.ch_ref.to_numpy().astype(int)\n",
    "print(f\"Channel reference ordered by channel:\")\n",
    "for i in range(10):\n",
    "    ch_str = ' '.join([f\"{i:3d}\" for i in ch_ref_fpga[i*16:(i+1)*16]])\n",
    "    print(f\"{i*16:3d}-{(i+1)*16:3d}: \" + ch_str)\n",
    "print(f\"Channel reference ordered by probe location:\")\n",
    "for i in range(10):\n",
    "    ch_str = ' '.join([f\"{i:3d}\" for i in ch_ref_fpga[prb.chs[i*16:(i+1)*16]]])\n",
    "    print(f\"{i*16:3d}-{(i+1)*16:3d}: \" + ch_str)\n",
    "\n",
    "# check the current threshold\n",
    "thres = fpga.thres.to_numpy().copy()\n",
    "plt.subplot(2, 1, 1)\n",
    "plt.bar(np.arange(len(thres)), thres, width=1)\n",
    "plt.hlines(-250, 0, len(thres), color='r', linestyles='dashed')\n",
    "plt.ylabel('bit')\n",
    "plt.xlabel('channel')\n",
    "plt.xlim([-0.5, len(thres) - 0.5])\n",
    "plt.ylim([-1000, 0])\n",
    "plt.subplot(2, 1, 2)\n",
    "plt.bar(np.arange(len(prb.chs)), thres[prb.chs] * 0.195, width=1)\n",
    "plt.hlines(-50, 0, len(prb.chs), color='r', linestyles='dashed')\n",
    "plt.vlines(np.arange(-0.5, 128, 32), 0, -200, color='r', linestyles='dashed')\n",
    "plt.text(16, -100, 'prb 0\\nshank 0', color='k', ha='center', va='center')\n",
    "plt.text(16+32, -100, 'prb 0\\nshank 1', color='k', ha='center', va='center')\n",
    "plt.text(16+64, -100, 'prb 1\\nshank 0', color='k', ha='center', va='center')\n",
    "plt.text(16+96, -100, 'prb 1\\nshank 1', color='k', ha='center', va='center')\n",
    "plt.ylabel('uV')\n",
    "plt.xlabel('sorted by probe position')\n",
    "plt.xlim([-0.5, len(prb.chs) - 0.5])\n",
    "plt.ylim([-200, 0])\n",
    "plt.tight_layout()\n",
    "\n",
    "print(thres[prb.chs])"
   ]
  },
  {
   "cell_type": "code",
   "execution_count": null,
   "metadata": {},
   "outputs": [],
   "source": [
    "# probe channel information\n",
    "probe0_shank0 = prb.chs[:32]\n",
    "probe0_shank1 = prb.chs[32:64]\n",
    "probe1_shank0 = prb.chs[64:96]\n",
    "probe1_shank1 = prb.chs[96:128]\n",
    "\n",
    "# reset reference channel\n",
    "ch_ref_array = np.array(160*[160])\n",
    "\n",
    "# reset threshold level\n",
    "thres = np.ones(160) * -20000.0\n",
    "thres[probe0_shank0] = -200.0\n",
    "thres[probe0_shank1] = -200.0\n",
    "thres[probe1_shank0] = -20000.0\n",
    "thres[probe1_shank1] = -20000.0\n",
    "\n",
    "fpga.set_channel_ref(ch_ref_array)\n",
    "fpga.set_threshold(thres)"
   ]
  },
  {
   "cell_type": "markdown",
   "metadata": {},
   "source": [
    "### 2. Select reference electrodes\n",
    "1. Record for 1 minute (using open-ephys)\n",
    "2. Run the following command to check the spike count per channel. **Choose silent channels** as the references per probe:\n",
    "```bash\n",
    "> spiketag report mua.bin spk.bin prb_a2x32x2.prb\n",
    "```\n",
    "\n",
    "3. Set the reference channel\n",
    "4. Remove bin files (`rm *.bin`)\n",
    "5. Proceed to the next section\n"
   ]
  },
  {
   "cell_type": "code",
   "execution_count": null,
   "metadata": {},
   "outputs": [],
   "source": [
    "%matplotlib inline\n",
    "%gui qt\n",
    "\n",
    "import numpy as np\n",
    "from spiketag.mvc import controller\n",
    "from spiketag.base import probe\n",
    "\n",
    "mua_filename = './mua.bin'\n",
    "spk_filename = './spk.bin'\n",
    "prb_filename = './prb_a2x32x2.prb'\n",
    "\n",
    "# load probe\n",
    "prb = probe()\n",
    "prb.load(prb_filename)\n",
    "probe0_shank0 = prb.chs[:32]\n",
    "probe0_shank1 = prb.chs[32:64]\n",
    "probe1_shank0 = prb.chs[64:96]\n",
    "probe1_shank1 = prb.chs[96:128]\n",
    "\n",
    "# load fpga\n",
    "ctrl = controller(\n",
    "                  fpga = True,\n",
    "                  probe = prb,\n",
    "                  mua_filename=mua_filename, \n",
    "                  spk_filename=spk_filename, \n",
    "                 )\n",
    "\n",
    "# set reference channel\n",
    "ch_ref_array = np.array(160*[160])\n",
    "\n",
    "ref_probe0_shank0 = 38 # change this value\n",
    "ref_probe0_shank1 = 38 # change this value\n",
    "ref_probe1_shank0 = 160 # change this value\n",
    "ref_probe1_shank1 = 160 # change this value\n",
    "\n",
    "ch_ref_array[probe0_shank0] = ref_probe0_shank0\n",
    "ch_ref_array[probe0_shank1] = ref_probe0_shank1\n",
    "ch_ref_array[probe1_shank0] = ref_probe1_shank0\n",
    "ch_ref_array[probe1_shank1] = ref_probe1_shank1\n",
    "\n",
    "if ref_probe0_shank0 < 160:\n",
    "    ch_ref_array[ref_probe0_shank0] = 160\n",
    "if ref_probe0_shank1 < 160:\n",
    "    ch_ref_array[ref_probe0_shank1] = 160\n",
    "if ref_probe1_shank0 < 160:\n",
    "    ch_ref_array[ref_probe1_shank0] = 160\n",
    "if ref_probe1_shank0 < 160:\n",
    "    ch_ref_array[ref_probe1_shank1] = 160\n",
    "\n",
    "ctrl.fpga.set_channel_ref(ch_ref_array)\n",
    "ch_ref_fpga = ctrl.fpga.ch_ref.to_numpy().astype(int)\n",
    "print(f\"Channel reference ordered by channel:\")\n",
    "for i in range(10):\n",
    "    ch_str = ' '.join([f\"{i:3d}\" for i in ch_ref_fpga[i*16:(i+1)*16]])\n",
    "    print(f\"{i*16:3d}-{(i+1)*16:3d}: \" + ch_str)\n",
    "print(f\"Channel reference ordered by probe location:\")\n",
    "for i in range(10):\n",
    "    ch_str = ' '.join([f\"{i:3d}\" for i in ch_ref_fpga[prb.chs[i*16:(i+1)*16]]])\n",
    "    print(f\"{i*16:3d}-{(i+1)*16:3d}: \" + ch_str)"
   ]
  },
  {
   "cell_type": "markdown",
   "metadata": {},
   "source": [
    "### 3. Set threshold\n",
    "1. Record for 1 minute\n",
    "2. Set threshold\n",
    "3. Remove bin files\n",
    "4. Record about 10 minutes for clustering"
   ]
  },
  {
   "cell_type": "code",
   "execution_count": null,
   "metadata": {},
   "outputs": [],
   "source": [
    "%matplotlib inline\n",
    "%gui qt\n",
    "\n",
    "import numpy as np\n",
    "import matplotlib.pyplot as plt\n",
    "from spiketag.mvc import controller\n",
    "from spiketag.base import probe\n",
    "\n",
    "mua_filename = './mua.bin'\n",
    "spk_filename = './spk.bin'\n",
    "prb_filename = './prb_a2x32x2.prb'\n",
    "\n",
    "# load probe\n",
    "prb = probe()\n",
    "prb.load(prb_filename)\n",
    "probe0_shank0 = prb.chs[:32]\n",
    "probe0_shank1 = prb.chs[32:64]\n",
    "probe1_shank0 = prb.chs[64:96]\n",
    "probe1_shank1 = prb.chs[96:128]\n",
    "\n",
    "# load fpga\n",
    "ctrl = controller(\n",
    "                  fpga = True,\n",
    "                  probe = prb,\n",
    "                  mua_filename=mua_filename, \n",
    "                  spk_filename=spk_filename, \n",
    "                  scale=False\n",
    "                 )\n",
    "\n",
    "# set threshold\n",
    "ctrl.set_threshold(beta=4.5)\n",
    "\n",
    "# if the reference is 160, we will turn it off.\n",
    "ch_ref = ctrl.fpga.ch_ref.to_numpy().astype(int)\n",
    "for i_ch, ch in enumerate(ch_ref):\n",
    "    if ch == 160:\n",
    "        ctrl.fpga.thres[i_ch] = -20000."
   ]
  },
  {
   "cell_type": "code",
   "execution_count": null,
   "metadata": {},
   "outputs": [],
   "source": [
    "# plot threshold\n",
    "import matplotlib.pyplot as plt\n",
    "\n",
    "thres = ctrl.fpga.thres.to_numpy().copy()\n",
    "\n",
    "plt.subplot(2, 1, 1)\n",
    "plt.bar(np.arange(len(thres)), thres, width=1)\n",
    "plt.hlines(-250, 0, len(thres), color='r', linestyles='dashed')\n",
    "plt.ylabel('bit')\n",
    "plt.xlabel('channel')\n",
    "plt.xlim([-0.5, len(thres) - 0.5])\n",
    "plt.ylim([-1000, 0])\n",
    "\n",
    "plt.subplot(2, 1, 2)\n",
    "plt.bar(np.arange(len(prb.chs)), thres[prb.chs] * 0.195, width=1)\n",
    "plt.hlines(-50, 0, len(prb.chs), color='r', linestyles='dashed')\n",
    "plt.vlines(np.arange(-0.5, 128, 32), 0, -200, color='r', linestyles='dashed')\n",
    "plt.text(16, -100, 'prb 0\\nshank 0', color='k', ha='center', va='center')\n",
    "plt.text(16+32, -100, 'prb 0\\nshank 1', color='k', ha='center', va='center')\n",
    "plt.text(16+64, -100, 'prb 1\\nshank 0', color='k', ha='center', va='center')\n",
    "plt.text(16+96, -100, 'prb 1\\nshank 1', color='k', ha='center', va='center')\n",
    "plt.ylabel('uV')\n",
    "plt.xlabel('sorted by probe position')\n",
    "plt.xlim([-0.5, len(prb.chs) - 0.5])\n",
    "plt.ylim([-200, 0])\n",
    "\n",
    "plt.tight_layout()\n",
    "\n",
    "thres[prb.chs]"
   ]
  },
  {
   "cell_type": "code",
   "execution_count": null,
   "metadata": {},
   "outputs": [],
   "source": [
    "# manually set threshold if needed (these values are in bits not in uV)\n",
    "thres = np.ones(160, dtype=float) * -20000.0\n",
    "thres[probe0_shank0] = -40.0\n",
    "thres[probe0_shank1] = -500.0\n",
    "\n",
    "# if the reference is 160, we will turn it off.\n",
    "ch_ref = ctrl.fpga.ch_ref.to_numpy().astype(int)\n",
    "for i_ch, ch in enumerate(ch_ref):\n",
    "    if ch == 160:\n",
    "        thres[i_ch] = -20000.0\n",
    "\n",
    "ctrl.fpga.set_threshold(thres)\n",
    "print(thres)"
   ]
  },
  {
   "cell_type": "markdown",
   "metadata": {},
   "source": [
    "### 4. Spike sort\n",
    "#### 1) Run background cluster\n",
    "```bash\n",
    "> ipcluster start --n=8\n",
    "```\n",
    "- You don't need this if you are doing only manual curation\n",
    "\n",
    "#### 2) Open sorter\n",
    "```python\n",
    ">>> ctrl.show()\n",
    "```\n",
    "\n",
    "- Group selection plot\n",
    "\t- k, j: up, down\n",
    "\t- o: open\n",
    "\t- #g: go to cluster #\n",
    "\t- #bg: do gaussian clustering for the selected group (ex. 4bg, 5bg ...)\n",
    "\t- #bh: do hdbscan clustering for the selected group\n",
    "\t- z: undo\n",
    "\t- u: reset\n",
    "\t- d: done\n",
    "- Waveform plot\n",
    "\t- c: select single spike\n",
    "\t- a: select all\n",
    "\t- left click: merge\n",
    "\t- right click: switch\n",
    "\t- esc: cancel selection"
   ]
  },
  {
   "cell_type": "code",
   "execution_count": null,
   "metadata": {},
   "outputs": [],
   "source": [
    "%matplotlib inline\n",
    "%gui qt\n",
    "\n",
    "import os\n",
    "\n",
    "from spiketag.mvc.Control import controller\n",
    "from spiketag.base import probe\n",
    "\n",
    "mua_filename = './mua.bin'\n",
    "spk_filename = './spk.bin'\n",
    "prb_filename = './prb_a2x32x2.prb'\n",
    "\n",
    "prb = probe()\n",
    "prb.load(prb_filename)\n",
    "ctrl = controller(\n",
    "                  fpga = True,\n",
    "                  probe = prb,\n",
    "                  mua_filename=mua_filename, \n",
    "                  spk_filename=spk_filename,\n",
    "                  binary_radix=13, \n",
    "                  scale=False\n",
    "                  # time_segs=[[0,320]] # if you want to load only part of the data\n",
    "                 )"
   ]
  },
  {
   "cell_type": "code",
   "execution_count": null,
   "metadata": {},
   "outputs": [],
   "source": [
    "# Open the sorter GUI\n",
    "ctrl.show()"
   ]
  },
  {
   "cell_type": "code",
   "execution_count": null,
   "metadata": {},
   "outputs": [],
   "source": [
    "# Save the model\n",
    "ctrl.save('model')"
   ]
  },
  {
   "cell_type": "code",
   "execution_count": null,
   "metadata": {},
   "outputs": [],
   "source": [
    "# Copy model to FPGA\n",
    "ctrl.compile()"
   ]
  },
  {
   "cell_type": "code",
   "execution_count": null,
   "metadata": {},
   "outputs": [],
   "source": [
    "print(ctrl.fpga.label)"
   ]
  },
  {
   "cell_type": "markdown",
   "metadata": {},
   "source": [
    "### 5. Check clustered units to select target unit\n",
    "- Check the pattern of each unit, and select the one that is stable, and well separated from the noise level"
   ]
  },
  {
   "cell_type": "code",
   "execution_count": null,
   "metadata": {},
   "outputs": [],
   "source": [
    "from nctrl.unit import Unit\n",
    "\n",
    "unit = Unit()\n",
    "unit.load()"
   ]
  },
  {
   "cell_type": "code",
   "execution_count": null,
   "metadata": {},
   "outputs": [],
   "source": [
    "unit.plot()"
   ]
  },
  {
   "cell_type": "code",
   "execution_count": null,
   "metadata": {},
   "outputs": [],
   "source": [
    "unit.simulate(unit_id=1)"
   ]
  },
  {
   "cell_type": "markdown",
   "metadata": {},
   "source": [
    "### 6. BMI\n",
    "#### 1) If you are using FPGA's TTL output, go to section #4 and run\n",
    "```python\n",
    ">>> ctrl.fpga.target_unit = 1\n",
    "```\n",
    "\n",
    "Then open spiketag bmi\n",
    "```bash\n",
    "> spiketag bmi\n",
    "```\n",
    "\n",
    "#### 2) If you are using software close-loop system, run the section below."
   ]
  },
  {
   "cell_type": "code",
   "execution_count": null,
   "metadata": {},
   "outputs": [],
   "source": [
    "from nctrl import NCtrl\n",
    "\n",
    "bmi = NCtrl()"
   ]
  },
  {
   "cell_type": "code",
   "execution_count": null,
   "metadata": {},
   "outputs": [],
   "source": [
    "bmi.show()"
   ]
  },
  {
   "cell_type": "markdown",
   "metadata": {},
   "source": [
    "### If the device is busy...\n",
    "```bash\n",
    "> fuser /dev/xillybus_template_32 -k\n",
    "> fuser /dev/xillybus_fet_clf_32 -k\n",
    "```"
   ]
  },
  {
   "cell_type": "code",
   "execution_count": null,
   "metadata": {},
   "outputs": [],
   "source": [
    "# if the device is busy\n",
    "!fuser /dev/xillybus_template_32 -k\n",
    "!fuser /dev/xillybus_fet_clf_32 -k"
   ]
  },
  {
   "cell_type": "code",
   "execution_count": null,
   "metadata": {},
   "outputs": [],
   "source": []
  }
 ],
 "metadata": {
  "kernelspec": {
   "display_name": "Python 3 (ipykernel)",
   "language": "python",
   "name": "python3"
  },
  "language_info": {
   "codemirror_mode": {
    "name": "ipython",
    "version": 3
   },
   "file_extension": ".py",
   "mimetype": "text/x-python",
   "name": "python",
   "nbconvert_exporter": "python",
   "pygments_lexer": "ipython3",
   "version": "3.8.19"
  }
 },
 "nbformat": 4,
 "nbformat_minor": 4
}
