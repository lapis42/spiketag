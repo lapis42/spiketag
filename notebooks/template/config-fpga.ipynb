{
 "cells": [
  {
   "cell_type": "markdown",
   "metadata": {},
   "source": [
    "### 1. Reset the reference channel / threshold\n",
    "1. Record open-phys files by clicking the \"MUA fifo\" button (just for several seconds to generate files)\n",
    "2. Run the codes below to reset reference and threshold\n",
    "3. Delete bin files (`rm *.bin`)\n",
    "4. Proceed to the next section"
   ]
  },
  {
   "cell_type": "code",
   "execution_count": null,
   "metadata": {},
   "outputs": [],
   "source": [
    "%matplotlib inline\n",
    "%gui qt\n",
    "\n",
    "import numpy as np\n",
    "from spiketag.mvc import controller\n",
    "from spiketag.base import probe\n",
    "\n",
    "mua_filename = './mua.bin'\n",
    "spk_filename = './spk.bin'\n",
    "prb_filename = './prb_a2x32.prb'\n",
    "\n",
    "prb = probe()\n",
    "prb.load(prb_filename)\n",
    "\n",
    "ctrl = controller(\n",
    "                  fpga = True,\n",
    "                  probe = prb,\n",
    "                  mua_filename=mua_filename, \n",
    "                  spk_filename=spk_filename,\n",
    "                  time_segs=[1, 2]\n",
    "                 )\n",
    "\n",
    "# reset reference channel\n",
    "ch_ref_array = np.array(160*[160])\n",
    "ctrl.fpga.set_channel_ref(ch_ref_array)\n",
    "\n",
    "thres = np.ones(160) * -20000.0\n",
    "\n",
    "thres[:64] = -200.0\n",
    "thres[64:128] = -200.0 # -20000.0 if not used\n",
    "\n",
    "# reset threshold level\n",
    "ctrl.fpga.set_threshold(thres)"
   ]
  },
  {
   "cell_type": "code",
   "execution_count": null,
   "metadata": {},
   "outputs": [],
   "source": [
    "print(ctrl.fpga.thres)\n",
    "print(ctrl.fpga.ch_ref)"
   ]
  },
  {
   "cell_type": "markdown",
   "metadata": {},
   "source": [
    "### 2. Select reference electrodes\n",
    "1. Record for 1 minute (using open-ephys)\n",
    "2. Run the following command to check the spike count per channel. Choose silent channels as the references per probe:\n",
    "```bash\n",
    "> spiketag report mua.bin spk.bin prb_a2x32.prb\n",
    "```\n",
    "\n",
    "3. Set the reference channel\n",
    "4. Remove bin files (`rm *.bin`)\n",
    "5. Proceed to the next section\n"
   ]
  },
  {
   "cell_type": "code",
   "execution_count": null,
   "metadata": {},
   "outputs": [],
   "source": [
    "%matplotlib inline\n",
    "%gui qt\n",
    "\n",
    "import numpy as np\n",
    "from spiketag.mvc import controller\n",
    "from spiketag.base import probe\n",
    "\n",
    "mua_filename = './mua.bin'\n",
    "spk_filename = './spk.bin'\n",
    "prb_filename = './prb_a2x32.prb'\n",
    "\n",
    "prb = probe()\n",
    "prb.load(prb_filename)\n",
    "ctrl = controller(\n",
    "                  fpga = True,\n",
    "                  probe = prb,\n",
    "                  mua_filename=mua_filename, \n",
    "                  spk_filename=spk_filename, \n",
    "                 )\n",
    "\n",
    "# set reference channel\n",
    "ch_ref_array = np.array(160*[160])\n",
    "\n",
    "ref_chNo_0 = 38 # change this value\n",
    "ref_chNo_1 = 160 # change this value\n",
    "\n",
    "ch_ref_array[prb.chs[:64]] = ref_chNo_0\n",
    "ch_ref_array[prb.chs[64:128]] = ref_chNo_1\n",
    "\n",
    "ctrl.fpga.set_channel_ref(ch_ref_array)"
   ]
  },
  {
   "cell_type": "markdown",
   "metadata": {},
   "source": [
    "### 3. Set threshold\n",
    "1. Record for 1 minute\n",
    "2. Set threshold\n",
    "3. Remove bin files\n",
    "4. Record about 10 minutes for clustering\n",
    "5. Copy `sorter-fpga.ipynb` by running this:\n",
    "```bash\n",
    "> spiketag cp sorter-fpga\n",
    "```"
   ]
  },
  {
   "cell_type": "code",
   "execution_count": null,
   "metadata": {},
   "outputs": [],
   "source": [
    "%matplotlib inline\n",
    "%gui qt\n",
    "\n",
    "import numpy as np\n",
    "import matplotlib.pyplot as plt\n",
    "from spiketag.mvc import controller\n",
    "from spiketag.base import probe\n",
    "\n",
    "mua_filename = './mua.bin'\n",
    "spk_filename = './spk.bin'\n",
    "prb_filename = './prb_a2x32.prb'\n",
    "\n",
    "prb = probe()\n",
    "prb.load(prb_filename)\n",
    "ctrl = controller(\n",
    "                  fpga = True,\n",
    "                  probe = prb,\n",
    "                  mua_filename=mua_filename, \n",
    "                  spk_filename=spk_filename, \n",
    "                  scale=False\n",
    "                 )\n",
    "\n",
    "# set threshold\n",
    "ctrl.set_threshold(beta=4.5)\n",
    "\n",
    "ref_chNo_l = 38 # change this value\n",
    "ref_chNo_r = 160 # change this value\n",
    "\n",
    "if ref_chNo_l != 160:\n",
    "    ctrl.fpga.thres[ref_chNo_l] = -20000.\n",
    "\n",
    "if ref_chNo_r != 160:\n",
    "    ctrl.fpga.thres[ref_chNo_r] = -20000.\n",
    "\n",
    "ctrl.fpga.thres[128:160] = -20000. # suppress unused channels"
   ]
  },
  {
   "cell_type": "code",
   "execution_count": null,
   "metadata": {},
   "outputs": [],
   "source": [
    "import matplotlib.pyplot as plt\n",
    "\n",
    "thres = np.zeros(len(prb.chs))\n",
    "for i, ch in enumerate(prb.chs):\n",
    "    thres[i] = ctrl.fpga.thres[ch] * 0.195\n",
    "plt.plot(thres)\n",
    "thres"
   ]
  },
  {
   "cell_type": "code",
   "execution_count": null,
   "metadata": {},
   "outputs": [],
   "source": []
  }
 ],
 "metadata": {
  "kernelspec": {
   "display_name": "Python 3 (ipykernel)",
   "language": "python",
   "name": "python3"
  },
  "language_info": {
   "codemirror_mode": {
    "name": "ipython",
    "version": 3
   },
   "file_extension": ".py",
   "mimetype": "text/x-python",
   "name": "python",
   "nbconvert_exporter": "python",
   "pygments_lexer": "ipython3",
   "version": "3.8.19"
  }
 },
 "nbformat": 4,
 "nbformat_minor": 4
}
