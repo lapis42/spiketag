{
 "cells": [
  {
   "cell_type": "code",
   "execution_count": null,
   "metadata": {
    "ExecuteTime": {
     "end_time": "2019-03-14T19:57:40.066392Z",
     "start_time": "2019-03-14T19:57:39.794774Z"
    },
    "scrolled": true
   },
   "outputs": [],
   "source": [
    "%matplotlib inline\n",
    "%gui qt\n",
    "\n",
    "import os\n",
    "\n",
    "from spiketag.mvc.Control import controller\n",
    "from spiketag.base import probe\n",
    "\n",
    "mua_filename = './mua.bin'\n",
    "spk_filename = './spk.bin'\n",
    "prb_filename = './prb_a2x32.prb'\n",
    "\n",
    "prb = probe()\n",
    "prb.load(prb_filename)\n",
    "ctrl = controller(\n",
    "                  fpga = True,\n",
    "                  probe = prb,\n",
    "                  mua_filename=mua_filename, \n",
    "                  spk_filename=spk_filename,\n",
    "                  binary_radix=13, \n",
    "                  scale=False\n",
    "                  # time_segs=[[0,320]]\n",
    "                 )"
   ]
  },
  {
   "cell_type": "code",
   "execution_count": null,
   "metadata": {
    "ExecuteTime": {
     "end_time": "2019-03-14T19:55:10.655717Z",
     "start_time": "2019-03-14T19:55:10.348850Z"
    }
   },
   "outputs": [],
   "source": [
    "ctrl.show()"
   ]
  },
  {
   "cell_type": "code",
   "execution_count": null,
   "metadata": {},
   "outputs": [],
   "source": [
    "ctrl.save('model')"
   ]
  },
  {
   "cell_type": "code",
   "execution_count": null,
   "metadata": {},
   "outputs": [],
   "source": [
    "ctrl.compile()"
   ]
  },
  {
   "cell_type": "code",
   "execution_count": null,
   "metadata": {},
   "outputs": [],
   "source": [
    "ctrl.fpga.target_unit=1"
   ]
  },
  {
   "cell_type": "code",
   "execution_count": null,
   "metadata": {},
   "outputs": [],
   "source": [
    "# to close xillybus device if error occurs\n",
    "!fuser /dev/xillybus_template_32 -k"
   ]
  }
 ],
 "metadata": {
  "kernelspec": {
   "display_name": "Python 3 (ipykernel)",
   "language": "python",
   "name": "python3"
  },
  "language_info": {
   "codemirror_mode": {
    "name": "ipython",
    "version": 3
   },
   "file_extension": ".py",
   "mimetype": "text/x-python",
   "name": "python",
   "nbconvert_exporter": "python",
   "pygments_lexer": "ipython3",
   "version": "3.8.19"
  }
 },
 "nbformat": 4,
 "nbformat_minor": 4
}
